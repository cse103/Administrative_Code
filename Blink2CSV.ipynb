{
 "metadata": {
  "name": "",
  "signature": "sha256:01bd81b75638818cfc90c27f78b24f6aa09f25b23015585d6f08a983a4b645de"
 },
 "nbformat": 3,
 "nbformat_minor": 0,
 "worksheets": [
  {
   "cells": [
    {
     "cell_type": "code",
     "collapsed": false,
     "input": [
      "!ls -l"
     ],
     "language": "python",
     "metadata": {},
     "outputs": []
    },
    {
     "cell_type": "code",
     "collapsed": false,
     "input": [
      "!head -4 StandardOutput-WL-1410209279097.xls"
     ],
     "language": "python",
     "metadata": {},
     "outputs": []
    },
    {
     "cell_type": "code",
     "collapsed": false,
     "input": [
      "!head -4 StandardOutput-CL-1410209210488.xls"
     ],
     "language": "python",
     "metadata": {},
     "outputs": []
    },
    {
     "cell_type": "code",
     "collapsed": false,
     "input": [
      "%load Blink2Piazza.py"
     ],
     "language": "python",
     "metadata": {},
     "outputs": []
    },
    {
     "cell_type": "code",
     "collapsed": false,
     "input": [
      "%%writefile Blink2csv.py\n",
      "#!/usr/bin/env python\n",
      "\"\"\"Translate from a blink student list into a list of emails that can\n",
      "be used to populate Piazza.\n",
      "\n",
      "The first lines of a Blink student list are:\n",
      "\n",
      "Sect ID\tCourse\tTitle\tSecCode\tInstructor\t\n",
      "785801\tCSE103\tPractical Intro/Prob & Stats\tA00\tFreund, Yoav\n",
      "\n",
      "Sec ID\tPID\tStudent\tCredits\tCollege\tMajor\tLevel\tEmail\t\n",
      "785801\tA10318231\tAbid, Michael E\t4.00\tRE\tCS26\tSR\tmabid@ucsd.edu\n",
      "785801\tA10917852\tAbney, Beck Graham\t4.00\tSI\tCS26\tFR\tbabney@ucsd.edu\n",
      "\n",
      "\"\"\"\n",
      "import sys\n",
      "\n",
      "Filenames={\n",
      "    'CL':'StandardOutput-CL-1410209210488.xls',\n",
      "    'WL':'StandardOutput-WL-1410209279097.xls'\n",
      "    }\n",
      "\n",
      "outfile=open('StudentTable.csv','w')\n",
      "outfile.write('PID, Last,First,Major, Level, Email, Status\\n')\n",
      "\n",
      "for Status in ('CL','WL'):\n",
      "    print 'Status=',Status\n",
      "    Infile=open(Filenames[Status],'r')\n",
      "    for i in range(4):      #skip header lines\n",
      "        Infile.readline()\n",
      "\n",
      "    for line in Infile.readlines():\n",
      "        #parts = line.strip().split('\\t')\n",
      "        #print line,parts\n",
      "        if Status=='CL':\n",
      "            SecID, PID, Student, Credits, College, Major, Level, Email= line.strip().split('\\t')\n",
      "        else:\n",
      "            SecID, PID, Student, College, Major, Level, Date, Time, Email= line.strip().split('\\t')\n",
      "        Last, First = Student.split(',')\n",
      "        Email=Email.strip()\n",
      "        outfile.write(','.join((PID, Last,First,Major, Level, Email,Status))+'\\n')\n",
      "    Infile.close()\n",
      "outfile.close()"
     ],
     "language": "python",
     "metadata": {},
     "outputs": [
      {
       "output_type": "stream",
       "stream": "stdout",
       "text": [
        "Writing Blink2csv.py\n"
       ]
      }
     ],
     "prompt_number": 1
    },
    {
     "cell_type": "code",
     "collapsed": false,
     "input": [],
     "language": "python",
     "metadata": {},
     "outputs": [],
     "prompt_number": 1
    },
    {
     "cell_type": "code",
     "collapsed": false,
     "input": [
      "!grep ',WL' StudentTable.csv | wc"
     ],
     "language": "python",
     "metadata": {},
     "outputs": [
      {
       "output_type": "stream",
       "stream": "stdout",
       "text": [
        "     147     387    8084\r\n"
       ]
      }
     ],
     "prompt_number": 2
    },
    {
     "cell_type": "code",
     "collapsed": false,
     "input": [
      "!grep ',CL' StudentTable.csv | wc"
     ],
     "language": "python",
     "metadata": {},
     "outputs": [
      {
       "output_type": "stream",
       "stream": "stdout",
       "text": [
        "     182     505   10368\r\n"
       ]
      }
     ],
     "prompt_number": 3
    },
    {
     "cell_type": "code",
     "collapsed": false,
     "input": [],
     "language": "python",
     "metadata": {},
     "outputs": []
    }
   ],
   "metadata": {}
  }
 ]
}